{
 "cells": [
  {
   "cell_type": "code",
   "execution_count": 4,
   "id": "32e5220f-241a-4f5c-ac2f-3b31df15b3e8",
   "metadata": {},
   "outputs": [
    {
     "name": "stdout",
     "output_type": "stream",
     "text": [
      "Pearson Correlation: 0.2361364453232534, p-value: 4.2864370895058464e-07\n",
      "Spearman Rank Correlation: 0.2759479693381559, p-value: 2.848101012492399e-09\n",
      "Kendall's Rank Correlation: 0.203515492220908, p-value: 1.6983895517102952e-10\n",
      "Chi-Square Test: Chi2=0.0, p-value=1.0\n"
     ]
    }
   ],
   "source": [
    "import pandas as pd\n",
    "import numpy as np\n",
    "from scipy.stats import pearsonr, spearmanr, kendalltau, chi2_contingency\n",
    "from sklearn.preprocessing import LabelEncoder\n",
    "\n",
    "# Load your dataset (replace 'your_dataset.csv' with the actual file path)\n",
    "data = pd.read_csv('india_only.csv')\n",
    "\n",
    "# Display dataset structure\n",
    "# print(data.head())\n",
    "\n",
    "# Example: Correlation analysis between yield and year\n",
    "years = data['Year']  # Replace with actual column name\n",
    "yield_values = data['Value']  # Replace with actual column name\n",
    "\n",
    "# Pearson Correlation\n",
    "pearson_corr, pearson_p = pearsonr(years, yield_values)\n",
    "print(f\"Pearson Correlation: {pearson_corr}, p-value: {pearson_p}\")\n",
    "\n",
    "# Spearman Rank Correlation\n",
    "spearman_corr, spearman_p = spearmanr(years, yield_values)\n",
    "print(f\"Spearman Rank Correlation: {spearman_corr}, p-value: {spearman_p}\")\n",
    "\n",
    "# Kendall's Rank Correlation\n",
    "kendall_corr, kendall_p = kendalltau(years, yield_values)\n",
    "print(f\"Kendall's Rank Correlation: {kendall_corr}, p-value: {kendall_p}\")\n",
    "\n",
    "# Chi-Square Test: Example using crops and years (categorical variables)\n",
    "# Encode categorical variables\n",
    "le_crops = LabelEncoder()\n",
    "data['Crop_Encoded'] = le_crops.fit_transform(data['Item'])  # Replace 'Crop' with actual column name\n",
    "\n",
    "contingency_table = pd.crosstab(data['Crop_Encoded'], data['Year'])  # Replace column names\n",
    "chi2, chi_p, dof, expected = chi2_contingency(contingency_table)\n",
    "print(f\"Chi-Square Test: Chi2={chi2}, p-value={chi_p}\")\n"
   ]
  },
  {
   "cell_type": "code",
   "execution_count": null,
   "id": "ad6e4309-ee67-4f4e-84bb-4506ea02b60b",
   "metadata": {},
   "outputs": [],
   "source": []
  }
 ],
 "metadata": {
  "kernelspec": {
   "display_name": "Python 3 (ipykernel)",
   "language": "python",
   "name": "python3"
  },
  "language_info": {
   "codemirror_mode": {
    "name": "ipython",
    "version": 3
   },
   "file_extension": ".py",
   "mimetype": "text/x-python",
   "name": "python",
   "nbconvert_exporter": "python",
   "pygments_lexer": "ipython3",
   "version": "3.11.1"
  }
 },
 "nbformat": 4,
 "nbformat_minor": 5
}
