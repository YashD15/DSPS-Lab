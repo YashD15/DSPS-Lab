{
 "cells": [
  {
   "cell_type": "code",
   "execution_count": 1,
   "id": "bb388a6e-f882-45fc-bfcd-b7cfd1d08032",
   "metadata": {},
   "outputs": [
    {
     "name": "stdout",
     "output_type": "stream",
     "text": [
      "Dataset has been read for year ranging from 2000 to 2014\n"
     ]
    }
   ],
   "source": [
    "import pandas as pd\n",
    "import numpy as np\n",
    "from scipy.stats import pearsonr, spearmanr, kendalltau, chi2_contingency\n",
    "from sklearn.feature_selection import chi2\n",
    "data = pd.read_csv('india_only.csv')\n",
    "data = data[(data['Year'] >= 2000) & (data['Year'] <= 2014)]\n",
    "print(\"Dataset has been read for year ranging from 2000 to 2014\")\n",
    "#Compare crop yield generation across different years and determine if there is a significant trend over time\n",
    "years = data['Year']\n",
    "yield_values = data['Value']"
   ]
  },
  {
   "cell_type": "code",
   "execution_count": 2,
   "id": "3d3887fd-0659-480a-bd72-fced64e589df",
   "metadata": {},
   "outputs": [
    {
     "name": "stdout",
     "output_type": "stream",
     "text": [
      "Pearson Correlation Analysis\n",
      "Correlation Coefficient: 0.0745\n",
      "P-value: 0.4188\n",
      "Conclusion: The correlation is not significant based on a 0.05 significance level.\n",
      "\n"
     ]
    }
   ],
   "source": [
    "# Pearson Correlation\n",
    "pearson_corr, pearson_p = pearsonr(years, yield_values)\n",
    "pearson_significance = \"significant\" if pearson_p <= 0.05 else \"not significant\"\n",
    "\n",
    "print(\"Pearson Correlation Analysis\")\n",
    "print(f\"Correlation Coefficient: {pearson_corr:.4f}\")\n",
    "print(f\"P-value: {pearson_p:.4f}\")\n",
    "print(f\"Conclusion: The correlation is {pearson_significance} based on a 0.05 significance level.\\n\")"
   ]
  },
  {
   "cell_type": "code",
   "execution_count": 3,
   "id": "ad6e4309-ee67-4f4e-84bb-4506ea02b60b",
   "metadata": {},
   "outputs": [
    {
     "name": "stdout",
     "output_type": "stream",
     "text": [
      "Spearman Rank Correlation Analysis\n",
      "Correlation Coefficient: 0.1218\n",
      "P-value: 0.1851\n",
      "Conclusion: The correlation is not significant based on a 0.05 significance level.\n",
      "\n"
     ]
    }
   ],
   "source": [
    "# Spearman Rank Correlation\n",
    "spearman_corr, spearman_p = spearmanr(years, yield_values)\n",
    "spearman_significance = \"significant\" if spearman_p <= 0.05 else \"not significant\"\n",
    "\n",
    "print(\"Spearman Rank Correlation Analysis\")\n",
    "print(f\"Correlation Coefficient: {spearman_corr:.4f}\")\n",
    "print(f\"P-value: {spearman_p:.4f}\")\n",
    "print(f\"Conclusion: The correlation is {spearman_significance} based on a 0.05 significance level.\\n\")"
   ]
  },
  {
   "cell_type": "code",
   "execution_count": 4,
   "id": "a699642c-c8f9-496e-8384-f37a8d79ec1e",
   "metadata": {},
   "outputs": [
    {
     "name": "stdout",
     "output_type": "stream",
     "text": [
      "Kendall's Rank Correlation Analysis\n",
      "Correlation Coefficient: 0.0881\n",
      "P-value: 0.1654\n",
      "Conclusion: The correlation is not significant based on a 0.05 significance level.\n",
      "\n"
     ]
    }
   ],
   "source": [
    "# Kendall's Rank Correlation\n",
    "kendall_corr, kendall_p = kendalltau(years, yield_values)\n",
    "kendall_significance = \"significant\" if kendall_p <= 0.05 else \"not significant\"\n",
    "\n",
    "print(\"Kendall's Rank Correlation Analysis\")\n",
    "print(f\"Correlation Coefficient: {kendall_corr:.4f}\")\n",
    "print(f\"P-value: {kendall_p:.4f}\")\n",
    "print(f\"Conclusion: The correlation is {kendall_significance} based on a 0.05 significance level.\\n\")"
   ]
  },
  {
   "cell_type": "code",
   "execution_count": 5,
   "id": "22298e93-fb1b-4844-9e06-5f26c56fc33e",
   "metadata": {},
   "outputs": [
    {
     "name": "stdout",
     "output_type": "stream",
     "text": [
      "Chi-Square Test Analysis\n",
      "Chi-Square Statistic: 475.0000\n",
      "P-value: 0.4015\n",
      "Degrees of Freedom: 468\n",
      "Conclusion: The relationship between 'Year' and 'Value' is not significant based on a 0.05 significance level.\n",
      "\n"
     ]
    }
   ],
   "source": [
    "# Chi-Square Test\n",
    "bins = 5\n",
    "data['Year_Bins'] = pd.qcut(data['Year'], q=bins, labels=[f\"Q{i+1}\" for i in range(bins)])\n",
    "contingency_table = pd.crosstab(data[\"Value\"], data[\"Year_Bins\"])\n",
    "\n",
    "chi2_stat, chi2_p, dof, expected = chi2_contingency(contingency_table)\n",
    "chi2_significance = \"significant\" if chi2_p < 0.05 else \"not significant\"\n",
    "\n",
    "print(\"Chi-Square Test Analysis\")\n",
    "print(f\"Chi-Square Statistic: {chi2_stat:.4f}\")\n",
    "print(f\"P-value: {chi2_p:.4f}\")\n",
    "print(f\"Degrees of Freedom: {dof}\")\n",
    "print(f\"Conclusion: The relationship between 'Year' and 'Value' is {chi2_significance} based on a 0.05 significance level.\\n\")"
   ]
  }
 ],
 "metadata": {
  "kernelspec": {
   "display_name": "Python 3 (ipykernel)",
   "language": "python",
   "name": "python3"
  },
  "language_info": {
   "codemirror_mode": {
    "name": "ipython",
    "version": 3
   },
   "file_extension": ".py",
   "mimetype": "text/x-python",
   "name": "python",
   "nbconvert_exporter": "python",
   "pygments_lexer": "ipython3",
   "version": "3.12.8"
  }
 },
 "nbformat": 4,
 "nbformat_minor": 5
}
