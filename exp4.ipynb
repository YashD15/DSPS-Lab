{
 "cells": [
  {
   "cell_type": "code",
   "execution_count": 2,
   "id": "32e5220f-241a-4f5c-ac2f-3b31df15b3e8",
   "metadata": {},
   "outputs": [
    {
     "name": "stdout",
     "output_type": "stream",
     "text": [
      "Pearson Correlation: 0.0745, p-value: 0.4188\n",
      "The correlation is not significant.\n",
      "Spearman Rank Correlation: 0.1218, p-value: 0.1851\n",
      "Kendall's Rank Correlation: 0.08807586693869379, p-value: 0.1654006451948723\n",
      "Chi-Square Test: Chi2=0.0, p-value=1.0\n"
     ]
    }
   ],
   "source": [
    "import pandas as pd\n",
    "import numpy as np\n",
    "from scipy.stats import pearsonr, spearmanr, kendalltau, chi2_contingency\n",
    "from sklearn.preprocessing import LabelEncoder\n",
    "\n",
    "# Load your dataset (replace 'your_dataset.csv' with the actual file path)\n",
    "data = pd.read_csv('india_only.csv')\n",
    "data = data[(data['Year'] >= 2000) & (data['Year'] <= 2014)]\n",
    "\n",
    "# Display dataset structure\n",
    "# print(data.head())\n",
    "\n",
    "# Example: Correlation analysis between yield and year\n",
    "years = data['Year']  # Replace with actual column name\n",
    "yield_values = data['Value']  # Replace with actual column name\n",
    "\n",
    "# Pearson Correlation\n",
    "pearson_corr, pearson_p = pearsonr(years, yield_values)\n",
    "\n",
    "# Display results\n",
    "print(f\"Pearson Correlation: {pearson_corr:.4f}, p-value: {pearson_p:.4f}\")\n",
    "\n",
    "# Check significance\n",
    "significance = \"significant\" if pearson_p <= 0.05 else \"not significant\"\n",
    "print(f\"The correlation is {significance}.\")\n",
    "\n",
    "\n",
    "# Spearman Rank Correlation\n",
    "spearman_corr, spearman_p = spearmanr(years, yield_values)\n",
    "print(f\"Spearman Rank Correlation: {spearman_corr:.4f}, p-value: {spearman_p:.4f}\")\n",
    "\n",
    "# Kendall's Rank Correlation\n",
    "kendall_corr, kendall_p = kendalltau(years, yield_values)\n",
    "print(f\"Kendall's Rank Correlation: {kendall_corr}, p-value: {kendall_p}\")\n",
    "\n",
    "# Chi-Square Test: Example using crops and years (categorical variables)\n",
    "# Encode categorical variables\n",
    "\n",
    "\n",
    "le_crops = LabelEncoder()\n",
    "data['Crop_Encoded'] = le_crops.fit_transform(data['Item'])  # Replace 'Crop' with actual column name\n",
    "\n",
    "contingency_table = pd.crosstab(data['Crop_Encoded'], data['Year'])  # Replace column names\n",
    "chi2, chi_p, dof, expected = chi2_contingency(contingency_table)\n",
    "print(f\"Chi-Square Test: Chi2={chi2}, p-value={chi_p}\")\n"
   ]
  },
  {
   "cell_type": "code",
   "execution_count": 6,
   "id": "ad6e4309-ee67-4f4e-84bb-4506ea02b60b",
   "metadata": {},
   "outputs": [
    {
     "name": "stdout",
     "output_type": "stream",
     "text": [
      "475.0000000000001\n",
      "0.4015113244510589\n",
      "468\n",
      "Significant\n"
     ]
    }
   ],
   "source": [
    "bins = 5\n",
    "numeric_bins = pd.qcut(data[\"Year\"], q=bins, labels=[f\"Q{i+1}\" for i in range(bins)])\n",
    "contingency_table = pd.crosstab(data[\"Value\"], numeric_bins)\n",
    "chi2_stat, p_val, dof, expected = chi2_contingency(contingency_table)\n",
    "print(chi2_stat)\n",
    "print(p_val)\n",
    "print(dof)\n",
    "if p_val < 0.5:\n",
    "    print(\"Significant\")\n",
    "else:\n",
    "    print(\"not significant\")"
   ]
  },
  {
   "cell_type": "code",
   "execution_count": null,
   "id": "a699642c-c8f9-496e-8384-f37a8d79ec1e",
   "metadata": {},
   "outputs": [],
   "source": []
  }
 ],
 "metadata": {
  "kernelspec": {
   "display_name": "Python 3 (ipykernel)",
   "language": "python",
   "name": "python3"
  },
  "language_info": {
   "codemirror_mode": {
    "name": "ipython",
    "version": 3
   },
   "file_extension": ".py",
   "mimetype": "text/x-python",
   "name": "python",
   "nbconvert_exporter": "python",
   "pygments_lexer": "ipython3",
   "version": "3.12.1"
  }
 },
 "nbformat": 4,
 "nbformat_minor": 5
}
