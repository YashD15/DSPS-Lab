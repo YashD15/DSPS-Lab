{
 "cells": [
  {
   "cell_type": "code",
   "execution_count": 1,
   "id": "d7e69f68-9ce2-4f68-a64e-7ef62d714860",
   "metadata": {},
   "outputs": [
    {
     "name": "stdout",
     "output_type": "stream",
     "text": [
      "Experiment 5\n"
     ]
    }
   ],
   "source": [
    "print(\"Experiment 5\")"
   ]
  },
  {
   "cell_type": "code",
   "execution_count": 1,
   "id": "971ee8fa-3840-40be-8d5d-8f74c33227af",
   "metadata": {},
   "outputs": [
    {
     "name": "stdout",
     "output_type": "stream",
     "text": [
      "Dataset has been Read\n"
     ]
    }
   ],
   "source": [
    "from sklearn.model_selection import train_test_split\n",
    "from sklearn.preprocessing import LabelEncoder\n",
    "from sklearn.tree import DecisionTreeClassifier\n",
    "from sklearn.naive_bayes import GaussianNB\n",
    "from sklearn.ensemble import RandomForestClassifier\n",
    "from sklearn.metrics import accuracy_score, classification_report, confusion_matrix\n",
    "import pandas as pd\n",
    "ds = \"sales_data.csv\"\n",
    "df = pd.read_csv(ds, encoding=\"latin1\")\n",
    "print(\"Dataset has been Read\")"
   ]
  },
  {
   "cell_type": "code",
   "execution_count": 2,
   "id": "9ec1c1ae-bc20-4ecd-9da9-8ab274642957",
   "metadata": {},
   "outputs": [],
   "source": [
    "# Drop irrelevant columns\n",
    "drop_cols = [\"ORDERNUMBER\", \"ORDERDATE\", \"CUSTOMERNAME\", \"PHONE\", \"ADDRESSLINE1\", \n",
    "             \"ADDRESSLINE2\", \"CITY\", \"STATE\", \"POSTALCODE\", \"COUNTRY\", \"TERRITORY\", \n",
    "             \"CONTACTLASTNAME\", \"CONTACTFIRSTNAME\", \"PRODUCTCODE\"]\n",
    "df_cleaned = df.drop(columns=drop_cols)\n",
    "\n",
    "# Handle missing values (fill with mode for categorical and mean for numerical)\n",
    "for col in df_cleaned.columns:\n",
    "    if df_cleaned[col].dtype == \"object\":\n",
    "        df_cleaned[col] = df_cleaned[col].fillna(df_cleaned[col].mode()[0])\n",
    "    else:\n",
    "        df_cleaned[col] = df_cleaned[col].fillna(df_cleaned[col].mean())"
   ]
  },
  {
   "cell_type": "code",
   "execution_count": 3,
   "id": "a053a265-3dd1-4a6b-a248-dac466df3178",
   "metadata": {},
   "outputs": [],
   "source": [
    "# Encode categorical features\n",
    "label_encoders = {}\n",
    "for col in df_cleaned.select_dtypes(include=[\"object\"]).columns:\n",
    "    le = LabelEncoder()\n",
    "    df_cleaned[col] = le.fit_transform(df_cleaned[col])\n",
    "    label_encoders[col] = le\n",
    "\n",
    "# Define features and target variable\n",
    "X = df_cleaned.drop(columns=[\"STATUS\"])  # Features\n",
    "y = df_cleaned[\"STATUS\"]  # Target variable\n",
    "\n",
    "# Split into training and testing sets (80-20 split)\n",
    "X_train, X_test, y_train, y_test = train_test_split(X, y, test_size=0.2, random_state=42)"
   ]
  },
  {
   "cell_type": "code",
   "execution_count": 4,
   "id": "607a3d65-90e7-4e57-84b0-ef5fa9cb0ad9",
   "metadata": {},
   "outputs": [],
   "source": [
    "# Initialize models\n",
    "dt_model = DecisionTreeClassifier(random_state=42)\n",
    "nb_model = GaussianNB()\n",
    "rf_model = RandomForestClassifier(n_estimators=100, random_state=42)\n",
    "\n",
    "# Train models\n",
    "dt_model.fit(X_train, y_train)\n",
    "nb_model.fit(X_train, y_train)\n",
    "rf_model.fit(X_train, y_train)\n",
    "\n",
    "# Make predictions\n",
    "dt_preds = dt_model.predict(X_test)\n",
    "nb_preds = nb_model.predict(X_test)\n",
    "rf_preds = rf_model.predict(X_test)\n",
    "\n",
    "# Evaluate models\n",
    "dt_acc = accuracy_score(y_test, dt_preds)\n",
    "nb_acc = accuracy_score(y_test, nb_preds)\n",
    "rf_acc = accuracy_score(y_test, rf_preds)"
   ]
  },
  {
   "cell_type": "code",
   "execution_count": 5,
   "id": "6fccef12-be66-47e2-8605-df7eef3a420f",
   "metadata": {},
   "outputs": [
    {
     "name": "stdout",
     "output_type": "stream",
     "text": [
      "Decision Tree Accuracy: 0.8991150442477877\n",
      "Decision Tree Report:\n",
      "               precision    recall  f1-score   support\n",
      "\n",
      "           0       0.40      0.35      0.38        17\n",
      "           1       0.33      0.25      0.29         4\n",
      "           2       0.80      0.62      0.70        13\n",
      "           3       0.40      0.50      0.44         8\n",
      "           4       0.29      0.40      0.33        10\n",
      "           5       0.95      0.95      0.95       513\n",
      "\n",
      "    accuracy                           0.90       565\n",
      "   macro avg       0.53      0.51      0.51       565\n",
      "weighted avg       0.90      0.90      0.90       565\n",
      "\n",
      "Decision Tree Confusion Matrix:\n",
      " [[  6   0   0   0   0  11]\n",
      " [  0   1   1   0   0   2]\n",
      " [  0   0   8   0   0   5]\n",
      " [  0   0   0   4   0   4]\n",
      " [  0   0   0   0   4   6]\n",
      " [  9   2   1   6  10 485]]\n"
     ]
    }
   ],
   "source": [
    "print(\"Decision Tree Accuracy:\", dt_acc)\n",
    "print(\"Decision Tree Report:\\n\", classification_report(y_test, dt_preds))\n",
    "print(\"Decision Tree Confusion Matrix:\\n\", confusion_matrix(y_test, dt_preds))"
   ]
  },
  {
   "cell_type": "code",
   "execution_count": 7,
   "id": "97a41c95-39a2-4035-8a0f-c27be035b583",
   "metadata": {},
   "outputs": [
    {
     "name": "stdout",
     "output_type": "stream",
     "text": [
      "Naïve Bayes Accuracy: 0.9079646017699115\n",
      "Naïve Bayes Report:\n",
      "               precision    recall  f1-score   support\n",
      "\n",
      "           0       0.00      0.00      0.00        17\n",
      "           1       0.09      0.25      0.13         4\n",
      "           2       0.50      1.00      0.67        13\n",
      "           3       1.00      0.12      0.22         8\n",
      "           4       0.00      0.00      0.00        10\n",
      "           5       0.94      0.97      0.96       513\n",
      "\n",
      "    accuracy                           0.91       565\n",
      "   macro avg       0.42      0.39      0.33       565\n",
      "weighted avg       0.88      0.91      0.89       565\n",
      "\n",
      "Naïve Bayes Confusion Matrix:\n",
      " [[  0   0   0   0   0  17]\n",
      " [  0   1   3   0   0   0]\n",
      " [  0   0  13   0   0   0]\n",
      " [  0   3   2   1   0   2]\n",
      " [  0   0   0   0   0  10]\n",
      " [  0   7   8   0   0 498]]\n"
     ]
    },
    {
     "name": "stderr",
     "output_type": "stream",
     "text": [
      "C:\\Users\\YASHDHAVDE\\AppData\\Local\\Packages\\PythonSoftwareFoundation.Python.3.12_qbz5n2kfra8p0\\LocalCache\\local-packages\\Python312\\site-packages\\sklearn\\metrics\\_classification.py:1565: UndefinedMetricWarning: Precision is ill-defined and being set to 0.0 in labels with no predicted samples. Use `zero_division` parameter to control this behavior.\n",
      "  _warn_prf(average, modifier, f\"{metric.capitalize()} is\", len(result))\n",
      "C:\\Users\\YASHDHAVDE\\AppData\\Local\\Packages\\PythonSoftwareFoundation.Python.3.12_qbz5n2kfra8p0\\LocalCache\\local-packages\\Python312\\site-packages\\sklearn\\metrics\\_classification.py:1565: UndefinedMetricWarning: Precision is ill-defined and being set to 0.0 in labels with no predicted samples. Use `zero_division` parameter to control this behavior.\n",
      "  _warn_prf(average, modifier, f\"{metric.capitalize()} is\", len(result))\n",
      "C:\\Users\\YASHDHAVDE\\AppData\\Local\\Packages\\PythonSoftwareFoundation.Python.3.12_qbz5n2kfra8p0\\LocalCache\\local-packages\\Python312\\site-packages\\sklearn\\metrics\\_classification.py:1565: UndefinedMetricWarning: Precision is ill-defined and being set to 0.0 in labels with no predicted samples. Use `zero_division` parameter to control this behavior.\n",
      "  _warn_prf(average, modifier, f\"{metric.capitalize()} is\", len(result))\n"
     ]
    }
   ],
   "source": [
    "print(\"Naïve Bayes Accuracy:\", nb_acc)\n",
    "print(\"Naïve Bayes Report:\\n\", classification_report(y_test, nb_preds))\n",
    "print(\"Naïve Bayes Confusion Matrix:\\n\", confusion_matrix(y_test, nb_preds))"
   ]
  },
  {
   "cell_type": "code",
   "execution_count": 8,
   "id": "a4898307-2732-4c58-955d-2fff016a4111",
   "metadata": {},
   "outputs": [
    {
     "name": "stdout",
     "output_type": "stream",
     "text": [
      "Random Forest Accuracy: 0.904424778761062\n",
      "Random Forest Report:\n",
      "               precision    recall  f1-score   support\n",
      "\n",
      "           0       0.33      0.06      0.10        17\n",
      "           1       0.00      0.00      0.00         4\n",
      "           2       0.57      0.31      0.40        13\n",
      "           3       0.25      0.12      0.17         8\n",
      "           4       0.00      0.00      0.00        10\n",
      "           5       0.92      0.98      0.95       513\n",
      "\n",
      "    accuracy                           0.90       565\n",
      "   macro avg       0.35      0.25      0.27       565\n",
      "weighted avg       0.86      0.90      0.88       565\n",
      "\n",
      "Random Forest Confusion Matrix:\n",
      " [[  1   0   0   0   0  16]\n",
      " [  0   0   1   0   0   3]\n",
      " [  0   0   4   0   0   9]\n",
      " [  0   0   0   1   0   7]\n",
      " [  0   0   0   0   0  10]\n",
      " [  2   1   2   3   0 505]]\n"
     ]
    },
    {
     "name": "stderr",
     "output_type": "stream",
     "text": [
      "C:\\Users\\YASHDHAVDE\\AppData\\Local\\Packages\\PythonSoftwareFoundation.Python.3.12_qbz5n2kfra8p0\\LocalCache\\local-packages\\Python312\\site-packages\\sklearn\\metrics\\_classification.py:1565: UndefinedMetricWarning: Precision is ill-defined and being set to 0.0 in labels with no predicted samples. Use `zero_division` parameter to control this behavior.\n",
      "  _warn_prf(average, modifier, f\"{metric.capitalize()} is\", len(result))\n",
      "C:\\Users\\YASHDHAVDE\\AppData\\Local\\Packages\\PythonSoftwareFoundation.Python.3.12_qbz5n2kfra8p0\\LocalCache\\local-packages\\Python312\\site-packages\\sklearn\\metrics\\_classification.py:1565: UndefinedMetricWarning: Precision is ill-defined and being set to 0.0 in labels with no predicted samples. Use `zero_division` parameter to control this behavior.\n",
      "  _warn_prf(average, modifier, f\"{metric.capitalize()} is\", len(result))\n",
      "C:\\Users\\YASHDHAVDE\\AppData\\Local\\Packages\\PythonSoftwareFoundation.Python.3.12_qbz5n2kfra8p0\\LocalCache\\local-packages\\Python312\\site-packages\\sklearn\\metrics\\_classification.py:1565: UndefinedMetricWarning: Precision is ill-defined and being set to 0.0 in labels with no predicted samples. Use `zero_division` parameter to control this behavior.\n",
      "  _warn_prf(average, modifier, f\"{metric.capitalize()} is\", len(result))\n"
     ]
    }
   ],
   "source": [
    "print(\"Random Forest Accuracy:\", rf_acc)\n",
    "print(\"Random Forest Report:\\n\", classification_report(y_test, rf_preds))\n",
    "print(\"Random Forest Confusion Matrix:\\n\", confusion_matrix(y_test, rf_preds))"
   ]
  }
 ],
 "metadata": {
  "kernelspec": {
   "display_name": "Python 3 (ipykernel)",
   "language": "python",
   "name": "python3"
  },
  "language_info": {
   "codemirror_mode": {
    "name": "ipython",
    "version": 3
   },
   "file_extension": ".py",
   "mimetype": "text/x-python",
   "name": "python",
   "nbconvert_exporter": "python",
   "pygments_lexer": "ipython3",
   "version": "3.12.8"
  }
 },
 "nbformat": 4,
 "nbformat_minor": 5
}
