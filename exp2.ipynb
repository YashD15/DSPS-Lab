{
 "cells": [
  {
   "cell_type": "code",
   "execution_count": 1,
   "id": "9e15aebd-40a0-47f6-99d5-d97e1a85b2f4",
   "metadata": {},
   "outputs": [
    {
     "name": "stdout",
     "output_type": "stream",
     "text": [
      "banva aata he\n"
     ]
    }
   ],
   "source": [
    "#10 Charts 1 Boxplot for outlier\n",
    "print(\"banva aata he\")"
   ]
  },
  {
   "cell_type": "code",
   "execution_count": null,
   "id": "efb9dbe4-3030-404b-a790-c8d5cf753db2",
   "metadata": {},
   "outputs": [],
   "source": []
  }
 ],
 "metadata": {
  "kernelspec": {
   "display_name": "Python 3 (ipykernel)",
   "language": "python",
   "name": "python3"
  },
  "language_info": {
   "codemirror_mode": {
    "name": "ipython",
    "version": 3
   },
   "file_extension": ".py",
   "mimetype": "text/x-python",
   "name": "python",
   "nbconvert_exporter": "python",
   "pygments_lexer": "ipython3",
   "version": "3.12.8"
  }
 },
 "nbformat": 4,
 "nbformat_minor": 5
}
