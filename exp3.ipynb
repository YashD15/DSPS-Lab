{
 "cells": [
  {
   "cell_type": "code",
   "execution_count": 4,
   "id": "80377236-3c3b-48a2-a2f3-a575e40f6ae4",
   "metadata": {},
   "outputs": [
    {
     "name": "stdout",
     "output_type": "stream",
     "text": [
      "Total no of dataset:  448\n"
     ]
    }
   ],
   "source": [
    "import pandas as pd\n",
    "import numpy as np\n",
    "from scipy.stats import norm\n",
    "data = pd.read_csv('india_only.csv')\n",
    "print(\"Total no of dataset: \", len(df))"
   ]
  },
  {
   "cell_type": "code",
   "execution_count": 6,
   "id": "77879ff6-5921-438e-a903-b3f9d9dbbfc3",
   "metadata": {},
   "outputs": [],
   "source": [
    "# Partition the data (Example: two time periods 1962-1989 vs 1990-2016)\n",
    "period1 = data[(data['Year'] >= 2000) & (data['Year'] <= 2004)]['Value'].dropna()\n",
    "period2 = data[(data['Year'] >= 2010) & (data['Year'] <= 2014)]['Value'].dropna()"
   ]
  },
  {
   "cell_type": "code",
   "execution_count": 7,
   "id": "57023170-d190-40e8-8e97-c473eee0b2cd",
   "metadata": {},
   "outputs": [],
   "source": [
    "# Calculate sample statistics\n",
    "mean1, mean2 = period1.mean(), period2.mean()\n",
    "std1, std2 = period1.std(), period2.std()\n",
    "n1, n2 = len(period1), len(period2)"
   ]
  },
  {
   "cell_type": "code",
   "execution_count": 8,
   "id": "efcde355-5302-40f9-b655-d35162d299e4",
   "metadata": {},
   "outputs": [],
   "source": [
    "# Compute Z-test statistic\n",
    "z_stat = (mean1 - mean2) / np.sqrt((std1**2 / n1) + (std2**2 / n2))\n",
    "# Compute p-value\n",
    "p_value = 2 * (1 - norm.cdf(np.abs(z_stat)))  # Two-tailed test"
   ]
  },
  {
   "cell_type": "code",
   "execution_count": 14,
   "id": "f538380c-b0ee-4da2-891b-2d00be9c0798",
   "metadata": {},
   "outputs": [
    {
     "name": "stdout",
     "output_type": "stream",
     "text": [
      "Two-Sample Z-Test Results:\n",
      "Mean of Group 1 (2000-2004): 79340.025\n",
      "Mean of Group 2 (2010-2014): 98842.7\n",
      "\n",
      "Z-Statistic: -0.8132948686887027\n",
      "P-Value: 0.41604901832987684\n",
      "\n",
      "Result: Reject the null hypothesis: The means are significantly different.\n"
     ]
    }
   ],
   "source": [
    "print(\"Two-Sample Z-Test Results:\")\n",
    "print(f\"Mean of Group 1 (2000-2004): {mean1}\")\n",
    "print(f\"Mean of Group 2 (2010-2014): {mean2}\\n\")\n",
    "print(f\"Z-Statistic: {z_stat}\")\n",
    "print(f\"P-Value: {p_value}\\n\")\n",
    "\n",
    "if p_value > 0.05:\n",
    "    print(\"Result: Reject the null hypothesis: The means are significantly different.\")\n",
    "else:\n",
    "    print(\"Result: Fail to reject the null hypothesis: The means are not significantly different.\")"
   ]
  }
 ],
 "metadata": {
  "kernelspec": {
   "display_name": "Python 3 (ipykernel)",
   "language": "python",
   "name": "python3"
  },
  "language_info": {
   "codemirror_mode": {
    "name": "ipython",
    "version": 3
   },
   "file_extension": ".py",
   "mimetype": "text/x-python",
   "name": "python",
   "nbconvert_exporter": "python",
   "pygments_lexer": "ipython3",
   "version": "3.12.8"
  }
 },
 "nbformat": 4,
 "nbformat_minor": 5
}
