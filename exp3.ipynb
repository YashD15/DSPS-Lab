{
 "cells": [
  {
   "cell_type": "code",
   "execution_count": 26,
   "id": "80377236-3c3b-48a2-a2f3-a575e40f6ae4",
   "metadata": {},
   "outputs": [
    {
     "name": "stdout",
     "output_type": "stream",
     "text": [
      "Total no of dataset:  448\n"
     ]
    }
   ],
   "source": [
    "import pandas as pd\n",
    "import numpy as np\n",
    "from scipy.stats import norm\n",
    "df = pd.read_csv('india_only.csv')\n",
    "print(\"Total no of dataset: \", len(df))"
   ]
  },
  {
   "cell_type": "code",
   "execution_count": 31,
   "id": "2550c4e6-beb1-4934-9eea-657105946bad",
   "metadata": {},
   "outputs": [
    {
     "name": "stdout",
     "output_type": "stream",
     "text": [
      "Two-Sample Z-Test Results:\n",
      "Mean of Group 1 (2000-2004): 79340.025\n",
      "Mean of Group 2 (2010-2014): 98842.7\n",
      "Z-Statistic: -0.8132948686887027\n",
      "P-Value: 0.41604901832987684\n",
      "Reject the null hypothesis: The means are significantly different.\n"
     ]
    }
   ],
   "source": [
    "# Partition the data (Example: two time periods 1962-1989 vs 1990-2016)\n",
    "period1 = data[(data['Year'] >= 2000) & (data['Year'] <= 2004)]['Value'].dropna()\n",
    "period2 = data[(data['Year'] >= 2010) & (data['Year'] <= 2014)]['Value'].dropna()\n",
    "\n",
    "# Calculate sample statistics\n",
    "mean1, mean2 = period1.mean(), period2.mean()\n",
    "std1, std2 = period1.std(), period2.std()\n",
    "n1, n2 = len(period1), len(period2)\n",
    "\n",
    "# Compute Z-test statistic\n",
    "z_stat = (mean1 - mean2) / np.sqrt((std1**2 / n1) + (std2**2 / n2))\n",
    "\n",
    "# Compute p-value\n",
    "p_value = 2 * (1 - norm.cdf(np.abs(z_stat)))  # Two-tailed test\n",
    "\n",
    "# Output results\n",
    "print(\"Two-Sample Z-Test Results:\")\n",
    "print(f\"Mean of Group 1 (2000-2004): {mean1}\")\n",
    "print(f\"Mean of Group 2 (2010-2014): {mean2}\")\n",
    "print(f\"Z-Statistic: {z_stat}\")\n",
    "print(f\"P-Value: {p_value}\")\n",
    "\n",
    "if p_value > 0.05:\n",
    "    print(\"Reject the null hypothesis: The means are significantly different.\")\n",
    "else:\n",
    "    print(\"Fail to reject the null hypothesis: The means are not significantly different.\")\n"
   ]
  },
  {
   "cell_type": "code",
   "execution_count": 21,
   "id": "37828193-bc44-4ff4-8256-8a54d86fab5d",
   "metadata": {},
   "outputs": [
    {
     "name": "stdout",
     "output_type": "stream",
     "text": [
      "Z-Test for Wheat Yield (2010 vs. 2011):\n",
      "Mean Yield (2010): 28395.0\n",
      "Mean Yield (2011): 29886.0\n",
      "Z-Statistic: nan\n",
      "P-Value: nan\n",
      "Fail to reject the null hypothesis: The mean yields are not significantly different.\n"
     ]
    }
   ],
   "source": [
    "import pandas as pd\n",
    "import numpy as np\n",
    "from scipy.stats import norm\n",
    "\n",
    "# Load the dataset\n",
    "data = pd.read_csv(\"india_only.csv\")  # Replace with your actual file path\n",
    "\n",
    "# Filter data for the specific crop and years\n",
    "crop = \"Wheat\"\n",
    "data_filtered = data[(data['Item'] == crop) & (data['Year'].isin([2010, 2011]))]\n",
    "\n",
    "# Partition the data into two groups: 2010 and 2011\n",
    "data_2010 = data_filtered[data_filtered['Year'] == 2010]['Value']\n",
    "data_2011 = data_filtered[data_filtered['Year'] == 2011]['Value']\n",
    "\n",
    "# Calculate sample statistics\n",
    "mean_2010, mean_2011 = data_2010.mean(), data_2011.mean()\n",
    "std_2010, std_2011 = data_2010.std(), data_2011.std()\n",
    "n_2010, n_2011 = len(data_2010), len(data_2011)\n",
    "\n",
    "# Compute Z-test statistic\n",
    "z_stat = (mean_2010 - mean_2011) / np.sqrt((std_2010**2 / n_2010) + (std_2011**2 / n_2011))\n",
    "\n",
    "# Compute p-value\n",
    "p_value = 2 * (1 - norm.cdf(abs(z_stat)))  # Two-tailed test\n",
    "\n",
    "# Significance level\n",
    "alpha = 0.05\n",
    "\n",
    "# Output results\n",
    "print(f\"Z-Test for {crop} Yield (2010 vs. 2011):\")\n",
    "print(f\"Mean Yield (2010): {mean_2010}\")\n",
    "print(f\"Mean Yield (2011): {mean_2011}\")\n",
    "print(f\"Z-Statistic: {z_stat}\")\n",
    "print(f\"P-Value: {p_value}\")\n",
    "\n",
    "if p_value < alpha:\n",
    "    print(\"Reject the null hypothesis: The mean yields are significantly different.\")\n",
    "else:\n",
    "    print(\"Fail to reject the null hypothesis: The mean yields are not significantly different.\")\n"
   ]
  },
  {
   "cell_type": "code",
   "execution_count": null,
   "id": "05031e0c-0ed1-4f4d-89e8-14d5cfaa66cd",
   "metadata": {},
   "outputs": [],
   "source": []
  }
 ],
 "metadata": {
  "kernelspec": {
   "display_name": "Python 3 (ipykernel)",
   "language": "python",
   "name": "python3"
  },
  "language_info": {
   "codemirror_mode": {
    "name": "ipython",
    "version": 3
   },
   "file_extension": ".py",
   "mimetype": "text/x-python",
   "name": "python",
   "nbconvert_exporter": "python",
   "pygments_lexer": "ipython3",
   "version": "3.12.1"
  }
 },
 "nbformat": 4,
 "nbformat_minor": 5
}
